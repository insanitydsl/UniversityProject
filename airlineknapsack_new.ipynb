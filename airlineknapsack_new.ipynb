{
  "nbformat": 4,
  "nbformat_minor": 0,
  "metadata": {
    "colab": {
      "provenance": [],
      "authorship_tag": "ABX9TyOr6A+2f6w0NCi5NPsCVZlR",
      "include_colab_link": true
    },
    "kernelspec": {
      "name": "python3",
      "display_name": "Python 3"
    },
    "language_info": {
      "name": "python"
    }
  },
  "cells": [
    {
      "cell_type": "markdown",
      "metadata": {
        "id": "view-in-github",
        "colab_type": "text"
      },
      "source": [
        "<a href=\"https://colab.research.google.com/github/insanitydsl/UniversityProject/blob/KnapsackProblem_Airline/airlineknapsack_new.ipynb\" target=\"_parent\"><img src=\"https://colab.research.google.com/assets/colab-badge.svg\" alt=\"Open In Colab\"/></a>"
      ]
    },
    {
      "cell_type": "code",
      "source": [
        "import csv\n",
        "import timeit\n",
        "import random\n",
        "import matplotlib.pyplot as plt\n",
        "from tabulate import tabulate\n",
        "\n",
        "def read_items_from_csv(Travel_Items):\n",
        "    items = []\n",
        "    with open('Travel_Items.csv', 'r') as f:\n",
        "        reader = csv.reader(f)\n",
        "        next(reader)  # skip the header row\n",
        "        for row in reader:\n",
        "            items.append({\n",
        "                'Items': row[0],\n",
        "                'Profits': int(row[1]),\n",
        "                'Weights': int(row[2])\n",
        "            })\n",
        "    return items\n",
        "\n",
        "items = read_items_from_csv('items.csv')\n",
        "print(tabulate(items))"
      ],
      "metadata": {
        "colab": {
          "base_uri": "https://localhost:8080/"
        },
        "id": "ugrgRDsJ89Q3",
        "outputId": "838a196b-aa76-4791-d63f-cca282eeac09"
      },
      "execution_count": 5,
      "outputs": [
        {
          "output_type": "stream",
          "name": "stdout",
          "text": [
            "---------------------------  --  ----\n",
            "Passport or ID                1   100\n",
            "Laptop                        4  1500\n",
            "Camera                        5   600\n",
            "Cell phone                    3   300\n",
            "Portable charger              6   200\n",
            "Travel adapter                7   100\n",
            "Water bottle                  8   500\n",
            "Travel-sized toiletries       9   150\n",
            "Cash and credit cards         2    50\n",
            "Travel pillow                60   200\n",
            "Shampoo                      10   200\n",
            "Soap                         11   100\n",
            "Toothpaste                   12    50\n",
            "Toothbrush                   13    20\n",
            "Shaving cream                14    50\n",
            "Deodorant                    15   100\n",
            "Makeup                       16   150\n",
            "Hairbrush                    17    50\n",
            "Sunglasses                   18    20\n",
            "Earplugs                     19     5\n",
            "Book                         20   500\n",
            "Clothes                      21  1200\n",
            "Shoes                        22   800\n",
            "Sneakers                     23   600\n",
            "Hat                          24   100\n",
            "Socks                        25   200\n",
            "Umbrella                     26   600\n",
            "Sleeping bag                 46  1500\n",
            "Tent                         47  3000\n",
            "Backpack                     48   800\n",
            "Snorkeling gear              49  2000\n",
            "Beach towel                  50   800\n",
            "Swimwear                     51   200\n",
            "Flip-flops                   52   300\n",
            "Sunscreen                    53   250\n",
            "Inflatable raft              54  1200\n",
            "Beach ball                   55   150\n",
            "Sand toys                    56   500\n",
            "Portable beach chairs        57  2000\n",
            "Beach umbrella               58  1000\n",
            "Sleeping mask                28    20\n",
            "Earplugs                     59     5\n",
            "Noise cancelling headphones  29   250\n",
            "Travel blanket               30   500\n",
            "Travel pillow                27   200\n",
            "Eyemask                      31    50\n",
            "Neck pillow                  32   100\n",
            "Compression socks            33   150\n",
            "Headphones                   34   150\n",
            "Slippers                     35   150\n",
            "Travel guidebook             36   500\n",
            "Journal                      37   150\n",
            "Pen                          38    20\n",
            "Wallet                       39   150\n",
            "Keychain                     40    50\n",
            "Watch                        41   150\n",
            "GPS device                   42   250\n",
            "Portable battery             43   200\n",
            "Headlamp                     44   100\n",
            "Multi-tool                   45   200\n",
            "---------------------------  --  ----\n"
          ]
        }
      ]
    },
    {
      "cell_type": "code",
      "source": [
        "# solving using greedy method\n",
        "def solve_knapsack_greedy(items, max_weight):\n",
        "    sorted_items = sorted(items, key=lambda x: x['Profits'] / x['Weights'], reverse=True) # sort by desc order\n",
        "    # declare and initialize total profit & weight\n",
        "    total_profit = 0\n",
        "    total_weight = 0\n",
        "    selected_items = []\n",
        "    for item in sorted_items:\n",
        "        if total_weight + item['Weights'] <= max_weight: # if item can be added into the bag, add it\n",
        "            selected_items.append(item) # create list of selected item that can be added into the bag\n",
        "            total_profit += item['Profits'] # add all of the selected item profit\n",
        "            total_weight += item['Weights'] # add all of the selected weight profit\n",
        "    return (total_profit, selected_items)\n",
        "\n",
        "max_weight = 2300 # in gram\n",
        "\n",
        "total_profit, selected_items = solve_knapsack_greedy(items, max_weight)\n",
        "print(f'Total Profits: {total_profit}')\n",
        "print(f'Selected Items: {tabulate(selected_items)}') # display list of item in table"
      ],
      "metadata": {
        "colab": {
          "base_uri": "https://localhost:8080/"
        },
        "id": "eQ48BUcVHOaI",
        "outputId": "1c35d761-4af9-4cdc-d8b7-d4b9f9edd06a"
      },
      "execution_count": 7,
      "outputs": [
        {
          "output_type": "stream",
          "name": "stdout",
          "text": [
            "Total Profits: 819\n",
            "Selected Items: -----------------  --  ---\n",
            "Earplugs           59    5\n",
            "Earplugs           19    5\n",
            "Pen                38   20\n",
            "Sleeping mask      28   20\n",
            "Sunglasses         18   20\n",
            "Keychain           40   50\n",
            "Toothbrush         13   20\n",
            "Eyemask            31   50\n",
            "Headlamp           44  100\n",
            "Beach ball         55  150\n",
            "Hairbrush          17   50\n",
            "Neck pillow        32  100\n",
            "Travel pillow      60  200\n",
            "Shaving cream      14   50\n",
            "Watch              41  150\n",
            "Wallet             39  150\n",
            "Swimwear           51  200\n",
            "Journal            37  150\n",
            "Toothpaste         12   50\n",
            "Hat                24  100\n",
            "Slippers           35  150\n",
            "Headphones         34  150\n",
            "Multi-tool         45  200\n",
            "Compression socks  33  150\n",
            "-----------------  --  ---\n"
          ]
        }
      ]
    },
    {
      "cell_type": "code",
      "source": [
        "#solving using dynamic method\n",
        "def solve_knapsack_dynamic(items, max_weight):\n",
        "    n = len(items)\n",
        "    profit = [[0] * (max_weight + 1) for _ in range(n + 1)] # create 2D array to store sub problem\n",
        "    for i in range(1, n + 1): # loop through items\n",
        "        for j in range(1, max_weight + 1): # loop through capacity\n",
        "            # if the current item is more than the current capacity, we cannot include it in the knapsack\n",
        "            if items[i - 1]['Weights'] > j:\n",
        "                profit[i][j] = profit[i - 1][j]\n",
        "            else:\n",
        "              # calculate the maximum value by either including the current item or not including it\n",
        "                profit[i][j] = max(profit[i - 1][j], profit[i - 1][j - items[i - 1]['Weights']] + items[i - 1]['Profits'])\n",
        "    selected_items = []\n",
        "    j = max_weight\n",
        "    for i in range(n, 0, -1):\n",
        "        if profit[i][j] != profit[i - 1][j]:\n",
        "            selected_items.append(items[i - 1])\n",
        "            j -= items[i - 1]['Weights']\n",
        "    selected_items.reverse()\n",
        "    return (profit[n][max_weight], selected_items)\n",
        "\n",
        "max_weight = 2300 # in gram\n",
        "\n",
        "total_profit, selected_items = solve_knapsack_dynamic(items, max_weight)\n",
        "print(f'Total Profits: {total_profit}')\n",
        "print(f'Selected Items: {tabulate(selected_items)}') # display list of item in table"
      ],
      "metadata": {
        "colab": {
          "base_uri": "https://localhost:8080/"
        },
        "id": "RIuC_bgtHUms",
        "outputId": "98d6d9e0-d510-47ce-9ff5-2ee4748ca978"
      },
      "execution_count": 8,
      "outputs": [
        {
          "output_type": "stream",
          "name": "stdout",
          "text": [
            "Total Profits: 819\n",
            "Selected Items: -----------------  --  ---\n",
            "Travel pillow      60  200\n",
            "Toothpaste         12   50\n",
            "Toothbrush         13   20\n",
            "Shaving cream      14   50\n",
            "Hairbrush          17   50\n",
            "Sunglasses         18   20\n",
            "Earplugs           19    5\n",
            "Hat                24  100\n",
            "Swimwear           51  200\n",
            "Beach ball         55  150\n",
            "Sleeping mask      28   20\n",
            "Earplugs           59    5\n",
            "Eyemask            31   50\n",
            "Neck pillow        32  100\n",
            "Compression socks  33  150\n",
            "Headphones         34  150\n",
            "Slippers           35  150\n",
            "Journal            37  150\n",
            "Pen                38   20\n",
            "Wallet             39  150\n",
            "Keychain           40   50\n",
            "Watch              41  150\n",
            "Headlamp           44  100\n",
            "Multi-tool         45  200\n",
            "-----------------  --  ---\n"
          ]
        }
      ]
    },
    {
      "cell_type": "code",
      "source": [
        "random.seed(0)\n",
        "items = []\n",
        "for i in range(1000):\n",
        "    items.append({\n",
        "        'Items': f'item{i}',\n",
        "        'Profits': random.randint(1, 100),\n",
        "        'Weights': random.randint(1, 100)\n",
        "        \n",
        "    })\n",
        "max_weight = 2300\n",
        "\n",
        "# measure the execution time of the greedy algorithm\n",
        "t = timeit.timeit(lambda: solve_knapsack_greedy(items, max_weight), number=1)\n",
        "print(f'Execution time of the greedy algorithm: {t:.6f} seconds')\n",
        "\n",
        "# measure the execution time of the dynamic programming algorithm\n",
        "t1 = timeit.timeit(lambda: solve_knapsack_dynamic(items, max_weight), number=1)\n",
        "print(f'Execution time of the dynamic programming algorithm: {t1:.6f} seconds')\n",
        "\n",
        "# data to be plotted\n",
        "algorithms = ['greedy', 'dynamic']\n",
        "times = [t, t1]  # execution times of the two algorithms\n",
        "\n",
        "# create the bar plot\n",
        "plt.bar(algorithms, times)\n",
        "\n",
        "# add labels and title\n",
        "plt.xlabel('Algorithm')\n",
        "plt.ylabel('Execution time (seconds)')\n",
        "plt.title('Comparison of algorithms')\n",
        "\n",
        "# show the plot\n",
        "plt.show()"
      ],
      "metadata": {
        "colab": {
          "base_uri": "https://localhost:8080/",
          "height": 330
        },
        "id": "Zp-7P_sBHXUf",
        "outputId": "d1968640-4044-4121-b4f8-fb8d41cfe500"
      },
      "execution_count": 9,
      "outputs": [
        {
          "output_type": "stream",
          "name": "stdout",
          "text": [
            "Execution time of the greedy algorithm: 0.000616 seconds\n",
            "Execution time of the dynamic programming algorithm: 0.997768 seconds\n"
          ]
        },
        {
          "output_type": "display_data",
          "data": {
            "text/plain": [
              "<Figure size 432x288 with 1 Axes>"
            ],
            "image/png": "[encoded data removed]"
          },
          "metadata": {
            "needs_background": "light"
          }
        }
      ]
    }
  ]
}